{
 "cells": [
  {
   "cell_type": "code",
   "execution_count": 71,
   "id": "37c5e2d4-4340-40ca-a7de-b55a5097b127",
   "metadata": {},
   "outputs": [
    {
     "name": "stdout",
     "output_type": "stream",
     "text": [
      "The autoreload extension is already loaded. To reload it, use:\n",
      "  %reload_ext autoreload\n"
     ]
    }
   ],
   "source": [
    "import sys\n",
    "sys.path.append(\"../\")\n",
    "\n",
    "%load_ext autoreload\n",
    "%autoreload 2"
   ]
  },
  {
   "cell_type": "code",
   "execution_count": 72,
   "id": "21ba9199-6134-49f1-9306-1128263fb8a5",
   "metadata": {},
   "outputs": [],
   "source": [
    "from datetime import datetime, timedelta, timezone\n",
    "import zoneinfo\n",
    "\n",
    "import polars as pl\n",
    "import talib\n",
    "import numpy as np\n",
    "from matplotlib import markers as mpl_markers\n",
    "import matplotlib.pyplot as plt\n",
    "import pandas as pd\n",
    "\n",
    "from src.data.index import CandlesAssetData"
   ]
  },
  {
   "cell_type": "markdown",
   "id": "1a836a91-3eb3-4dbf-9b75-808bebfef935",
   "metadata": {},
   "source": [
    "# Data"
   ]
  },
  {
   "cell_type": "code",
   "execution_count": 73,
   "id": "4ae29e12-62e1-48ea-88e8-9182ee9ffd4c",
   "metadata": {},
   "outputs": [
    {
     "data": {
      "text/plain": [
       "6830"
      ]
     },
     "execution_count": 73,
     "metadata": {},
     "output_type": "execute_result"
    }
   ],
   "source": [
    "asset = CandlesAssetData.from_polars((\n",
    "    pl.read_parquet(\"../tests/static/T.parquet\")\n",
    "    .filter(pl.col(\"ts\") >= datetime(2025, 1, 25, 0, 0, 0, tzinfo=zoneinfo.ZoneInfo(key='UTC')))\n",
    "    .filter(pl.col(\"ts\") <= datetime(2025, 2, 1, 0, 0, 0, tzinfo=zoneinfo.ZoneInfo(key='UTC')))\n",
    "))\n",
    "\n",
    "len(asset)"
   ]
  },
  {
   "cell_type": "markdown",
   "id": "0ab8da09-c257-4201-bca8-44caaa521ad8",
   "metadata": {},
   "source": [
    "# Talib"
   ]
  },
  {
   "cell_type": "code",
   "execution_count": 74,
   "id": "b06b71e9-4267-460a-860d-bab9ecc4c90e",
   "metadata": {},
   "outputs": [
    {
     "name": "stderr",
     "output_type": "stream",
     "text": [
      "6830it [00:00, 3387783.39it/s]\n",
      "6830it [00:00, 1006008.44it/s]\n",
      "6830it [00:00, 4336526.84it/s]\n",
      "6830it [00:00, 3796831.85it/s]\n",
      "6830it [00:00, 4285279.93it/s]\n"
     ]
    }
   ],
   "source": [
    "from src.features.talib import TALibFeaturizer\n",
    "\n",
    "\n",
    "sma_periods = (15, 30, 60, 120)\n",
    "for period in sma_periods:\n",
    "    featurizer = TALibFeaturizer(f\"sma_{period}\", func=lambda kwargs: talib.SMA(real=kwargs[\"open\"], timeperiod=period), add_to_asset=True)\n",
    "    featurizer.get_features_batch(asset)\n",
    "\n",
    "featurizer = TALibFeaturizer(\"rsi\", func=lambda kwargs: talib.RSI(real=kwargs[\"open\"], timeperiod=30), add_to_asset=True)\n",
    "_ = featurizer.get_features_batch(asset)"
   ]
  },
  {
   "cell_type": "markdown",
   "id": "55503f42-89ad-489b-91eb-92bfc8509ab6",
   "metadata": {},
   "source": [
    "# Lag"
   ]
  },
  {
   "cell_type": "code",
   "execution_count": 75,
   "id": "53c1d0c9-5c6d-46be-87ae-abef84a5343a",
   "metadata": {},
   "outputs": [],
   "source": [
    "from src.features.lag import LagTicksFeaturizer\n",
    "\n",
    "\n",
    "for period in sma_periods:\n",
    "    featurizer = LagTicksFeaturizer(f\"sma_{period}_lag_5\", feature=f\"sma_{period}\", lag=5, add_to_asset=True)\n",
    "    featurizer.get_features_batch(asset)\n",
    "\n",
    "lags = (1, 5, 15)\n",
    "for lag in lags:\n",
    "    featurizer = LagTicksFeaturizer(f\"close_lag_{lag}\", feature=f\"close\", lag=lag, add_to_asset=True)\n",
    "    featurizer.get_features_batch(asset)\n",
    "\n",
    "    featurizer = LagTicksFeaturizer(f\"volume_lag_{lag}\", feature=\"volume\", lag=lag, add_to_asset=True)\n",
    "    _ = featurizer.get_features_batch(asset)"
   ]
  },
  {
   "cell_type": "markdown",
   "id": "31070a8b-da42-4e04-9efb-3ea226fdcd65",
   "metadata": {},
   "source": [
    "# Func"
   ]
  },
  {
   "cell_type": "code",
   "execution_count": 76,
   "id": "36f30f9e-062d-42bb-b92b-d46946ec6ba8",
   "metadata": {},
   "outputs": [],
   "source": [
    "from functools import partial\n",
    "\n",
    "from src.features.func import FuncFeaturizer"
   ]
  },
  {
   "cell_type": "raw",
   "id": "07da390b-7f1a-4371-8e61-bddd87e0e54d",
   "metadata": {},
   "source": [
    "def is_exit(asset, dt):\n",
    "    data = asset.get(dt)\n",
    "\n",
    "    if data is None: \n",
    "        return False\n",
    "\n",
    "    for col in (\"sma_high_lag\", \"sma_low_lag\", \"sma_high\", \"sma_low\"):\n",
    "        if data[col] is None:\n",
    "            return False\n",
    "        \n",
    "    return (\n",
    "        (data[\"sma_high_lag\"] < data[\"sma_low_lag\"])\n",
    "        and (data[\"sma_high\"] >= data[\"sma_low\"])\n",
    "    )\n",
    "\n",
    "\n",
    "def is_entry(asset, dt):\n",
    "    data = asset.get(dt)\n",
    "\n",
    "    if data is None: \n",
    "        return False\n",
    "\n",
    "    for col in (\"sma_high_lag\", \"sma_low_lag\", \"sma_high\", \"sma_low\"):\n",
    "        if data[col] is None:\n",
    "            return False\n",
    "        \n",
    "    return (\n",
    "        (data[\"sma_high_lag\"] > data[\"sma_low_lag\"])\n",
    "        and (data[\"sma_high\"] <= data[\"sma_low\"])\n",
    "    )\n",
    "\n",
    "    \n",
    "featurizer = FuncFeaturizer(\"entry_sma\", is_entry, add_to_asset=True)\n",
    "_ = featurizer.get_features_batch(asset)\n",
    "\n",
    "featurizer = FuncFeaturizer(\"exit_sma\", is_exit, add_to_asset=True)\n",
    "_ = featurizer.get_features_batch(asset)\n",
    "\n",
    "asset.to_polars()"
   ]
  },
  {
   "cell_type": "raw",
   "id": "a17344da-8311-4b4f-a193-14fadb2e47f4",
   "metadata": {},
   "source": [
    "dd = (\n",
    "    asset.to_polars()\n",
    "    .select(\"ts\", \"close\", \"entry_sma\", \"exit_sma\", \"sma_high\", \"sma_low\")\n",
    "    # .filter(pl.col(\"ts\") >= datetime(2024, 12, 1, 0, 0, 0, tzinfo=zoneinfo.ZoneInfo(key='UTC')))\n",
    "    # .filter(pl.col(\"ts\") <= datetime(2025, 1, 1, 0, 0, 0, tzinfo=zoneinfo.ZoneInfo(key='UTC')))\n",
    "    .to_pandas()\n",
    ")\n",
    "\n",
    "ax = dd.set_index(\"ts\")[[\"close\", \"sma_high\", \"sma_low\"]].plot(alpha=0.3)\n",
    "\n",
    "entry_ts = dd.query(\"entry_sma\")[\"ts\"]\n",
    "exit_ts = dd.query(\"exit_sma\")[\"ts\"]\n",
    "\n",
    "ax.scatter(entry_ts, dd.query(\"entry_sma\")[\"close\"], color=\"green\", zorder=1000, marker=mpl_markers.CARETUP)\n",
    "ax.scatter(exit_ts, dd.query(\"exit_sma\")[\"close\"], color=\"red\", zorder=1000, marker=mpl_markers.CARETDOWN)"
   ]
  },
  {
   "cell_type": "code",
   "execution_count": 77,
   "id": "e3db81fc-f4e6-41a8-9272-1f9ecb72d371",
   "metadata": {},
   "outputs": [
    {
     "name": "stderr",
     "output_type": "stream",
     "text": [
      "100%|██████████████████████████████████████████████████████████████████████████████████████████████████████████████████████████████████████████████████| 6830/6830 [00:00<00:00, 257136.80it/s]\n",
      "100%|██████████████████████████████████████████████████████████████████████████████████████████████████████████████████████████████████████████████████| 6830/6830 [00:00<00:00, 276853.09it/s]\n",
      "100%|██████████████████████████████████████████████████████████████████████████████████████████████████████████████████████████████████████████████████| 6830/6830 [00:00<00:00, 336533.72it/s]\n",
      "100%|██████████████████████████████████████████████████████████████████████████████████████████████████████████████████████████████████████████████████| 6830/6830 [00:00<00:00, 340339.97it/s]\n",
      "100%|██████████████████████████████████████████████████████████████████████████████████████████████████████████████████████████████████████████████████| 6830/6830 [00:00<00:00, 334279.64it/s]\n",
      "100%|██████████████████████████████████████████████████████████████████████████████████████████████████████████████████████████████████████████████████| 6830/6830 [00:00<00:00, 164197.79it/s]\n"
     ]
    },
    {
     "data": {
      "text/html": [
       "<div><style>\n",
       ".dataframe > thead > tr,\n",
       ".dataframe > tbody > tr {\n",
       "  text-align: right;\n",
       "  white-space: pre-wrap;\n",
       "}\n",
       "</style>\n",
       "<small>shape: (6_830, 30)</small><table border=\"1\" class=\"dataframe\"><thead><tr><th>open</th><th>high</th><th>low</th><th>close</th><th>volume</th><th>ts</th><th>instrument_id</th><th>parse_ts</th><th>lot</th><th>sma_15</th><th>sma_30</th><th>sma_60</th><th>sma_120</th><th>rsi</th><th>sma_15_lag_5</th><th>sma_30_lag_5</th><th>sma_60_lag_5</th><th>sma_120_lag_5</th><th>close_lag_1</th><th>volume_lag_1</th><th>close_lag_5</th><th>volume_lag_5</th><th>close_lag_15</th><th>volume_lag_15</th><th>diff_sma_15_sma_15_lag_5</th><th>diff_sma_30_sma_30_lag_5</th><th>diff_sma_60_sma_60_lag_5</th><th>diff_sma_120_sma_120_lag_5</th><th>diff_volume_lag_5_volume_lag_1</th><th>diff_close_lag_5_close_lag_1</th></tr><tr><td>f64</td><td>f64</td><td>f64</td><td>f64</td><td>i64</td><td>datetime[μs, UTC]</td><td>str</td><td>datetime[μs]</td><td>i64</td><td>f64</td><td>f64</td><td>f64</td><td>f64</td><td>f64</td><td>f64</td><td>f64</td><td>f64</td><td>f64</td><td>f64</td><td>i64</td><td>f64</td><td>i64</td><td>f64</td><td>i64</td><td>f64</td><td>f64</td><td>f64</td><td>f64</td><td>i64</td><td>f64</td></tr></thead><tbody><tr><td>3012.4</td><td>3012.4</td><td>3012.4</td><td>3012.4</td><td>3</td><td>2025-01-25 00:02:00 UTC</td><td>&quot;87db07bc-0e02-4e29-90bb-05e8ef…</td><td>2025-02-03 22:04:28.851341</td><td>1</td><td>NaN</td><td>NaN</td><td>NaN</td><td>NaN</td><td>NaN</td><td>null</td><td>null</td><td>null</td><td>null</td><td>null</td><td>null</td><td>null</td><td>null</td><td>null</td><td>null</td><td>null</td><td>null</td><td>null</td><td>null</td><td>null</td><td>null</td></tr><tr><td>3012.4</td><td>3012.4</td><td>3012.4</td><td>3012.4</td><td>5</td><td>2025-01-25 00:04:00 UTC</td><td>&quot;87db07bc-0e02-4e29-90bb-05e8ef…</td><td>2025-02-03 22:04:28.851341</td><td>1</td><td>NaN</td><td>NaN</td><td>NaN</td><td>NaN</td><td>NaN</td><td>null</td><td>null</td><td>null</td><td>null</td><td>3012.4</td><td>3</td><td>null</td><td>null</td><td>null</td><td>null</td><td>null</td><td>null</td><td>null</td><td>null</td><td>null</td><td>null</td></tr><tr><td>3010.0</td><td>3010.0</td><td>3010.0</td><td>3010.0</td><td>1</td><td>2025-01-25 00:05:00 UTC</td><td>&quot;87db07bc-0e02-4e29-90bb-05e8ef…</td><td>2025-02-03 22:04:28.851341</td><td>1</td><td>NaN</td><td>NaN</td><td>NaN</td><td>NaN</td><td>NaN</td><td>null</td><td>null</td><td>null</td><td>null</td><td>3012.4</td><td>5</td><td>null</td><td>null</td><td>null</td><td>null</td><td>null</td><td>null</td><td>null</td><td>null</td><td>null</td><td>null</td></tr><tr><td>3012.4</td><td>3012.6</td><td>3012.4</td><td>3012.6</td><td>7</td><td>2025-01-25 00:06:00 UTC</td><td>&quot;87db07bc-0e02-4e29-90bb-05e8ef…</td><td>2025-02-03 22:04:28.851341</td><td>1</td><td>NaN</td><td>NaN</td><td>NaN</td><td>NaN</td><td>NaN</td><td>null</td><td>null</td><td>null</td><td>null</td><td>3010.0</td><td>1</td><td>null</td><td>null</td><td>null</td><td>null</td><td>null</td><td>null</td><td>null</td><td>null</td><td>null</td><td>null</td></tr><tr><td>3012.6</td><td>3012.6</td><td>3012.6</td><td>3012.6</td><td>5</td><td>2025-01-25 00:08:00 UTC</td><td>&quot;87db07bc-0e02-4e29-90bb-05e8ef…</td><td>2025-02-03 22:04:28.851341</td><td>1</td><td>NaN</td><td>NaN</td><td>NaN</td><td>NaN</td><td>NaN</td><td>null</td><td>null</td><td>null</td><td>null</td><td>3012.6</td><td>7</td><td>null</td><td>null</td><td>null</td><td>null</td><td>null</td><td>null</td><td>null</td><td>null</td><td>null</td><td>null</td></tr><tr><td>&hellip;</td><td>&hellip;</td><td>&hellip;</td><td>&hellip;</td><td>&hellip;</td><td>&hellip;</td><td>&hellip;</td><td>&hellip;</td><td>&hellip;</td><td>&hellip;</td><td>&hellip;</td><td>&hellip;</td><td>&hellip;</td><td>&hellip;</td><td>&hellip;</td><td>&hellip;</td><td>&hellip;</td><td>&hellip;</td><td>&hellip;</td><td>&hellip;</td><td>&hellip;</td><td>&hellip;</td><td>&hellip;</td><td>&hellip;</td><td>&hellip;</td><td>&hellip;</td><td>&hellip;</td><td>&hellip;</td><td>&hellip;</td><td>&hellip;</td></tr><tr><td>3053.6</td><td>3053.8</td><td>3053.6</td><td>3053.8</td><td>11</td><td>2025-01-31 23:52:00 UTC</td><td>&quot;87db07bc-0e02-4e29-90bb-05e8ef…</td><td>2025-02-03 22:04:28.851341</td><td>1</td><td>3053.64</td><td>3052.993333</td><td>3050.5</td><td>3045.963333</td><td>56.941962</td><td>3053.533333</td><td>3053.06</td><td>3049.446667</td><td>3045.59</td><td>3053.8</td><td>20</td><td>3053.4</td><td>14</td><td>3052.4</td><td>1</td><td>0.106667</td><td>-0.066667</td><td>1.053333</td><td>0.373333</td><td>-6</td><td>-0.4</td></tr><tr><td>3053.6</td><td>3053.8</td><td>3053.6</td><td>3053.8</td><td>34</td><td>2025-01-31 23:53:00 UTC</td><td>&quot;87db07bc-0e02-4e29-90bb-05e8ef…</td><td>2025-02-03 22:04:28.851341</td><td>1</td><td>3053.693333</td><td>3053.013333</td><td>3050.723333</td><td>3046.043333</td><td>56.941962</td><td>3053.546667</td><td>3052.98</td><td>3049.663333</td><td>3045.65</td><td>3053.8</td><td>11</td><td>3053.4</td><td>16</td><td>3052.2</td><td>35</td><td>0.146667</td><td>0.033333</td><td>1.06</td><td>0.393333</td><td>5</td><td>-0.4</td></tr><tr><td>3053.8</td><td>3053.8</td><td>3053.8</td><td>3053.8</td><td>47</td><td>2025-01-31 23:54:00 UTC</td><td>&quot;87db07bc-0e02-4e29-90bb-05e8ef…</td><td>2025-02-03 22:04:28.851341</td><td>1</td><td>3053.706667</td><td>3053.04</td><td>3050.936667</td><td>3046.138333</td><td>57.401779</td><td>3053.52</td><td>3052.933333</td><td>3049.866667</td><td>3045.725</td><td>3053.8</td><td>34</td><td>3053.6</td><td>1</td><td>3053.8</td><td>15</td><td>0.186667</td><td>0.106667</td><td>1.07</td><td>0.413333</td><td>-33</td><td>-0.2</td></tr><tr><td>3053.6</td><td>3053.6</td><td>3053.0</td><td>3053.0</td><td>29</td><td>2025-01-31 23:58:00 UTC</td><td>&quot;87db07bc-0e02-4e29-90bb-05e8ef…</td><td>2025-02-03 22:04:28.851341</td><td>1</td><td>3053.693333</td><td>3053.08</td><td>3051.133333</td><td>3046.225</td><td>56.774576</td><td>3053.56</td><td>3052.946667</td><td>3050.076667</td><td>3045.811667</td><td>3053.8</td><td>47</td><td>3054.0</td><td>51</td><td>3053.8</td><td>300</td><td>0.133333</td><td>0.133333</td><td>1.056667</td><td>0.413333</td><td>4</td><td>0.2</td></tr><tr><td>3053.0</td><td>3053.0</td><td>3053.0</td><td>3053.0</td><td>50</td><td>2025-01-31 23:59:00 UTC</td><td>&quot;87db07bc-0e02-4e29-90bb-05e8ef…</td><td>2025-02-03 22:04:28.851341</td><td>1</td><td>3053.626667</td><td>3053.093333</td><td>3051.323333</td><td>3046.31</td><td>54.912495</td><td>3053.56</td><td>3052.973333</td><td>3050.28</td><td>3045.893333</td><td>3053.0</td><td>29</td><td>3053.8</td><td>20</td><td>3053.8</td><td>1099</td><td>0.066667</td><td>0.12</td><td>1.043333</td><td>0.416667</td><td>-9</td><td>0.8</td></tr></tbody></table></div>"
      ],
      "text/plain": [
       "shape: (6_830, 30)\n",
       "┌────────┬────────┬────────┬────────┬───┬──────────────┬──────────────┬──────────────┬─────────────┐\n",
       "│ open   ┆ high   ┆ low    ┆ close  ┆ … ┆ diff_sma_60_ ┆ diff_sma_120 ┆ diff_volume_ ┆ diff_close_ │\n",
       "│ ---    ┆ ---    ┆ ---    ┆ ---    ┆   ┆ sma_60_lag_5 ┆ _sma_120_lag ┆ lag_5_volume ┆ lag_5_close │\n",
       "│ f64    ┆ f64    ┆ f64    ┆ f64    ┆   ┆ ---          ┆ _5           ┆ _lag_1       ┆ _lag_1      │\n",
       "│        ┆        ┆        ┆        ┆   ┆ f64          ┆ ---          ┆ ---          ┆ ---         │\n",
       "│        ┆        ┆        ┆        ┆   ┆              ┆ f64          ┆ i64          ┆ f64         │\n",
       "╞════════╪════════╪════════╪════════╪═══╪══════════════╪══════════════╪══════════════╪═════════════╡\n",
       "│ 3012.4 ┆ 3012.4 ┆ 3012.4 ┆ 3012.4 ┆ … ┆ null         ┆ null         ┆ null         ┆ null        │\n",
       "│ 3012.4 ┆ 3012.4 ┆ 3012.4 ┆ 3012.4 ┆ … ┆ null         ┆ null         ┆ null         ┆ null        │\n",
       "│ 3010.0 ┆ 3010.0 ┆ 3010.0 ┆ 3010.0 ┆ … ┆ null         ┆ null         ┆ null         ┆ null        │\n",
       "│ 3012.4 ┆ 3012.6 ┆ 3012.4 ┆ 3012.6 ┆ … ┆ null         ┆ null         ┆ null         ┆ null        │\n",
       "│ 3012.6 ┆ 3012.6 ┆ 3012.6 ┆ 3012.6 ┆ … ┆ null         ┆ null         ┆ null         ┆ null        │\n",
       "│ …      ┆ …      ┆ …      ┆ …      ┆ … ┆ …            ┆ …            ┆ …            ┆ …           │\n",
       "│ 3053.6 ┆ 3053.8 ┆ 3053.6 ┆ 3053.8 ┆ … ┆ 1.053333     ┆ 0.373333     ┆ -6           ┆ -0.4        │\n",
       "│ 3053.6 ┆ 3053.8 ┆ 3053.6 ┆ 3053.8 ┆ … ┆ 1.06         ┆ 0.393333     ┆ 5            ┆ -0.4        │\n",
       "│ 3053.8 ┆ 3053.8 ┆ 3053.8 ┆ 3053.8 ┆ … ┆ 1.07         ┆ 0.413333     ┆ -33          ┆ -0.2        │\n",
       "│ 3053.6 ┆ 3053.6 ┆ 3053.0 ┆ 3053.0 ┆ … ┆ 1.056667     ┆ 0.413333     ┆ 4            ┆ 0.2         │\n",
       "│ 3053.0 ┆ 3053.0 ┆ 3053.0 ┆ 3053.0 ┆ … ┆ 1.043333     ┆ 0.416667     ┆ -9           ┆ 0.8         │\n",
       "└────────┴────────┴────────┴────────┴───┴──────────────┴──────────────┴──────────────┴─────────────┘"
      ]
     },
     "execution_count": 77,
     "metadata": {},
     "output_type": "execute_result"
    }
   ],
   "source": [
    "def diff_cols(asset, dt, col1, col2):\n",
    "    data = asset.get(dt)\n",
    "\n",
    "    if data is None:\n",
    "        return None\n",
    "\n",
    "    if data[col1] is None:\n",
    "        return None\n",
    "\n",
    "    if data[col2] is None:\n",
    "        return None\n",
    "\n",
    "    return data[col1] - data[col2]\n",
    "\n",
    "\n",
    "for period in sma_periods:\n",
    "    col1 = f\"sma_{period}\"\n",
    "    col2 = f\"sma_{period}_lag_5\"\n",
    "    \n",
    "    featurizer = FuncFeaturizer(f\"diff_{col1}_{col2}\", partial(diff_cols, col1=col1, col2=col2), add_to_asset=True)\n",
    "    _ = featurizer.get_features_batch(asset)\n",
    "\n",
    "for col in (\"volume\", \"close\"):\n",
    "    col1 = f\"{col}_lag_5\"\n",
    "    col2 = f\"{col}_lag_1\"\n",
    "    \n",
    "    featurizer = FuncFeaturizer(f\"diff_{col1}_{col2}\", partial(diff_cols, col1=col1, col2=col2), add_to_asset=True)\n",
    "    _ = featurizer.get_features_batch(asset)\n",
    "\n",
    "asset.to_polars()"
   ]
  },
  {
   "cell_type": "markdown",
   "id": "f3e26e63-e311-459e-b48e-da406858cef9",
   "metadata": {},
   "source": [
    "# Models"
   ]
  },
  {
   "cell_type": "code",
   "execution_count": 78,
   "id": "028a1fe3-805f-44a9-a25e-5b8503b1a6ea",
   "metadata": {},
   "outputs": [
    {
     "data": {
      "text/plain": [
       "['open',\n",
       " 'high',\n",
       " 'low',\n",
       " 'close',\n",
       " 'volume',\n",
       " 'ts',\n",
       " 'instrument_id',\n",
       " 'parse_ts',\n",
       " 'lot',\n",
       " 'sma_15',\n",
       " 'sma_30',\n",
       " 'sma_60',\n",
       " 'sma_120',\n",
       " 'rsi',\n",
       " 'sma_15_lag_5',\n",
       " 'sma_30_lag_5',\n",
       " 'sma_60_lag_5',\n",
       " 'sma_120_lag_5',\n",
       " 'close_lag_1',\n",
       " 'volume_lag_1',\n",
       " 'close_lag_5',\n",
       " 'volume_lag_5',\n",
       " 'close_lag_15',\n",
       " 'volume_lag_15',\n",
       " 'diff_sma_15_sma_15_lag_5',\n",
       " 'diff_sma_30_sma_30_lag_5',\n",
       " 'diff_sma_60_sma_60_lag_5',\n",
       " 'diff_sma_120_sma_120_lag_5',\n",
       " 'diff_volume_lag_5_volume_lag_1',\n",
       " 'diff_close_lag_5_close_lag_1']"
      ]
     },
     "execution_count": 78,
     "metadata": {},
     "output_type": "execute_result"
    }
   ],
   "source": [
    "asset.to_polars().columns"
   ]
  },
  {
   "cell_type": "code",
   "execution_count": 79,
   "id": "2d797cc5-97af-4dbc-ae2e-13ea4ddde883",
   "metadata": {},
   "outputs": [],
   "source": [
    "model_features = [\n",
    "    'sma_15',\n",
    "    'sma_30',\n",
    "    'sma_60',\n",
    "    'sma_120',\n",
    "    'rsi',\n",
    "    'sma_15_lag_5',\n",
    "    'sma_30_lag_5',\n",
    "    'sma_60_lag_5',\n",
    "    'sma_120_lag_5',\n",
    "    'close_lag_1',\n",
    "    'volume_lag_1',\n",
    "    'close_lag_5',\n",
    "    'volume_lag_5',\n",
    "    'close_lag_15',\n",
    "    'volume_lag_15',\n",
    "    'diff_sma_15_sma_15_lag_5',\n",
    "    'diff_sma_30_sma_30_lag_5',\n",
    "    'diff_sma_60_sma_60_lag_5',\n",
    "    'diff_sma_120_sma_120_lag_5',\n",
    "    'diff_volume_lag_5_volume_lag_1',\n",
    "    'diff_close_lag_5_close_lag_1'\n",
    "]"
   ]
  },
  {
   "cell_type": "markdown",
   "id": "c122a623-aecd-4cbf-8748-fdc9af4e1f3e",
   "metadata": {},
   "source": [
    "## cb"
   ]
  },
  {
   "cell_type": "code",
   "execution_count": 82,
   "id": "6d003f33-5423-405c-a9dd-7530314d2b2c",
   "metadata": {},
   "outputs": [
    {
     "name": "stderr",
     "output_type": "stream",
     "text": [
      "100%|██████████████████████████████████████████████████████████████████████████████████████████████████████████████████████████████████████████████████████| 6830/6830 [04:51<00:00, 23.47it/s]\n"
     ]
    },
    {
     "data": {
      "text/html": [
       "<div><style>\n",
       ".dataframe > thead > tr,\n",
       ".dataframe > tbody > tr {\n",
       "  text-align: right;\n",
       "  white-space: pre-wrap;\n",
       "}\n",
       "</style>\n",
       "<small>shape: (6_830, 31)</small><table border=\"1\" class=\"dataframe\"><thead><tr><th>open</th><th>high</th><th>low</th><th>close</th><th>volume</th><th>ts</th><th>instrument_id</th><th>parse_ts</th><th>lot</th><th>sma_15</th><th>sma_30</th><th>sma_60</th><th>sma_120</th><th>rsi</th><th>sma_15_lag_5</th><th>sma_30_lag_5</th><th>sma_60_lag_5</th><th>sma_120_lag_5</th><th>close_lag_1</th><th>volume_lag_1</th><th>close_lag_5</th><th>volume_lag_5</th><th>close_lag_15</th><th>volume_lag_15</th><th>diff_sma_15_sma_15_lag_5</th><th>diff_sma_30_sma_30_lag_5</th><th>diff_sma_60_sma_60_lag_5</th><th>diff_sma_120_sma_120_lag_5</th><th>diff_volume_lag_5_volume_lag_1</th><th>diff_close_lag_5_close_lag_1</th><th>predict_cb</th></tr><tr><td>f64</td><td>f64</td><td>f64</td><td>f64</td><td>i64</td><td>datetime[μs, UTC]</td><td>str</td><td>datetime[μs]</td><td>i64</td><td>f64</td><td>f64</td><td>f64</td><td>f64</td><td>f64</td><td>f64</td><td>f64</td><td>f64</td><td>f64</td><td>f64</td><td>i64</td><td>f64</td><td>i64</td><td>f64</td><td>i64</td><td>f64</td><td>f64</td><td>f64</td><td>f64</td><td>i64</td><td>f64</td><td>f64</td></tr></thead><tbody><tr><td>3012.4</td><td>3012.4</td><td>3012.4</td><td>3012.4</td><td>3</td><td>2025-01-25 00:02:00 UTC</td><td>&quot;87db07bc-0e02-4e29-90bb-05e8ef…</td><td>2025-02-03 22:04:28.851341</td><td>1</td><td>NaN</td><td>NaN</td><td>NaN</td><td>NaN</td><td>NaN</td><td>null</td><td>null</td><td>null</td><td>null</td><td>null</td><td>null</td><td>null</td><td>null</td><td>null</td><td>null</td><td>null</td><td>null</td><td>null</td><td>null</td><td>null</td><td>null</td><td>null</td></tr><tr><td>3012.4</td><td>3012.4</td><td>3012.4</td><td>3012.4</td><td>5</td><td>2025-01-25 00:04:00 UTC</td><td>&quot;87db07bc-0e02-4e29-90bb-05e8ef…</td><td>2025-02-03 22:04:28.851341</td><td>1</td><td>NaN</td><td>NaN</td><td>NaN</td><td>NaN</td><td>NaN</td><td>null</td><td>null</td><td>null</td><td>null</td><td>3012.4</td><td>3</td><td>null</td><td>null</td><td>null</td><td>null</td><td>null</td><td>null</td><td>null</td><td>null</td><td>null</td><td>null</td><td>null</td></tr><tr><td>3010.0</td><td>3010.0</td><td>3010.0</td><td>3010.0</td><td>1</td><td>2025-01-25 00:05:00 UTC</td><td>&quot;87db07bc-0e02-4e29-90bb-05e8ef…</td><td>2025-02-03 22:04:28.851341</td><td>1</td><td>NaN</td><td>NaN</td><td>NaN</td><td>NaN</td><td>NaN</td><td>null</td><td>null</td><td>null</td><td>null</td><td>3012.4</td><td>5</td><td>null</td><td>null</td><td>null</td><td>null</td><td>null</td><td>null</td><td>null</td><td>null</td><td>null</td><td>null</td><td>null</td></tr><tr><td>3012.4</td><td>3012.6</td><td>3012.4</td><td>3012.6</td><td>7</td><td>2025-01-25 00:06:00 UTC</td><td>&quot;87db07bc-0e02-4e29-90bb-05e8ef…</td><td>2025-02-03 22:04:28.851341</td><td>1</td><td>NaN</td><td>NaN</td><td>NaN</td><td>NaN</td><td>NaN</td><td>null</td><td>null</td><td>null</td><td>null</td><td>3010.0</td><td>1</td><td>null</td><td>null</td><td>null</td><td>null</td><td>null</td><td>null</td><td>null</td><td>null</td><td>null</td><td>null</td><td>null</td></tr><tr><td>3012.6</td><td>3012.6</td><td>3012.6</td><td>3012.6</td><td>5</td><td>2025-01-25 00:08:00 UTC</td><td>&quot;87db07bc-0e02-4e29-90bb-05e8ef…</td><td>2025-02-03 22:04:28.851341</td><td>1</td><td>NaN</td><td>NaN</td><td>NaN</td><td>NaN</td><td>NaN</td><td>null</td><td>null</td><td>null</td><td>null</td><td>3012.6</td><td>7</td><td>null</td><td>null</td><td>null</td><td>null</td><td>null</td><td>null</td><td>null</td><td>null</td><td>null</td><td>null</td><td>null</td></tr><tr><td>&hellip;</td><td>&hellip;</td><td>&hellip;</td><td>&hellip;</td><td>&hellip;</td><td>&hellip;</td><td>&hellip;</td><td>&hellip;</td><td>&hellip;</td><td>&hellip;</td><td>&hellip;</td><td>&hellip;</td><td>&hellip;</td><td>&hellip;</td><td>&hellip;</td><td>&hellip;</td><td>&hellip;</td><td>&hellip;</td><td>&hellip;</td><td>&hellip;</td><td>&hellip;</td><td>&hellip;</td><td>&hellip;</td><td>&hellip;</td><td>&hellip;</td><td>&hellip;</td><td>&hellip;</td><td>&hellip;</td><td>&hellip;</td><td>&hellip;</td><td>&hellip;</td></tr><tr><td>3053.6</td><td>3053.8</td><td>3053.6</td><td>3053.8</td><td>11</td><td>2025-01-31 23:52:00 UTC</td><td>&quot;87db07bc-0e02-4e29-90bb-05e8ef…</td><td>2025-02-03 22:04:28.851341</td><td>1</td><td>3053.64</td><td>3052.993333</td><td>3050.5</td><td>3045.963333</td><td>56.941962</td><td>3053.533333</td><td>3053.06</td><td>3049.446667</td><td>3045.59</td><td>3053.8</td><td>20</td><td>3053.4</td><td>14</td><td>3052.4</td><td>1</td><td>0.106667</td><td>-0.066667</td><td>1.053333</td><td>0.373333</td><td>-6</td><td>-0.4</td><td>3049.381041</td></tr><tr><td>3053.6</td><td>3053.8</td><td>3053.6</td><td>3053.8</td><td>34</td><td>2025-01-31 23:53:00 UTC</td><td>&quot;87db07bc-0e02-4e29-90bb-05e8ef…</td><td>2025-02-03 22:04:28.851341</td><td>1</td><td>3053.693333</td><td>3053.013333</td><td>3050.723333</td><td>3046.043333</td><td>56.941962</td><td>3053.546667</td><td>3052.98</td><td>3049.663333</td><td>3045.65</td><td>3053.8</td><td>11</td><td>3053.4</td><td>16</td><td>3052.2</td><td>35</td><td>0.146667</td><td>0.033333</td><td>1.06</td><td>0.393333</td><td>5</td><td>-0.4</td><td>3049.019715</td></tr><tr><td>3053.8</td><td>3053.8</td><td>3053.8</td><td>3053.8</td><td>47</td><td>2025-01-31 23:54:00 UTC</td><td>&quot;87db07bc-0e02-4e29-90bb-05e8ef…</td><td>2025-02-03 22:04:28.851341</td><td>1</td><td>3053.706667</td><td>3053.04</td><td>3050.936667</td><td>3046.138333</td><td>57.401779</td><td>3053.52</td><td>3052.933333</td><td>3049.866667</td><td>3045.725</td><td>3053.8</td><td>34</td><td>3053.6</td><td>1</td><td>3053.8</td><td>15</td><td>0.186667</td><td>0.106667</td><td>1.07</td><td>0.413333</td><td>-33</td><td>-0.2</td><td>3048.604291</td></tr><tr><td>3053.6</td><td>3053.6</td><td>3053.0</td><td>3053.0</td><td>29</td><td>2025-01-31 23:58:00 UTC</td><td>&quot;87db07bc-0e02-4e29-90bb-05e8ef…</td><td>2025-02-03 22:04:28.851341</td><td>1</td><td>3053.693333</td><td>3053.08</td><td>3051.133333</td><td>3046.225</td><td>56.774576</td><td>3053.56</td><td>3052.946667</td><td>3050.076667</td><td>3045.811667</td><td>3053.8</td><td>47</td><td>3054.0</td><td>51</td><td>3053.8</td><td>300</td><td>0.133333</td><td>0.133333</td><td>1.056667</td><td>0.413333</td><td>4</td><td>0.2</td><td>3050.0548</td></tr><tr><td>3053.0</td><td>3053.0</td><td>3053.0</td><td>3053.0</td><td>50</td><td>2025-01-31 23:59:00 UTC</td><td>&quot;87db07bc-0e02-4e29-90bb-05e8ef…</td><td>2025-02-03 22:04:28.851341</td><td>1</td><td>3053.626667</td><td>3053.093333</td><td>3051.323333</td><td>3046.31</td><td>54.912495</td><td>3053.56</td><td>3052.973333</td><td>3050.28</td><td>3045.893333</td><td>3053.0</td><td>29</td><td>3053.8</td><td>20</td><td>3053.8</td><td>1099</td><td>0.066667</td><td>0.12</td><td>1.043333</td><td>0.416667</td><td>-9</td><td>0.8</td><td>3049.270512</td></tr></tbody></table></div>"
      ],
      "text/plain": [
       "shape: (6_830, 31)\n",
       "┌────────┬────────┬────────┬────────┬───┬──────────────┬──────────────┬──────────────┬─────────────┐\n",
       "│ open   ┆ high   ┆ low    ┆ close  ┆ … ┆ diff_sma_120 ┆ diff_volume_ ┆ diff_close_l ┆ predict_cb  │\n",
       "│ ---    ┆ ---    ┆ ---    ┆ ---    ┆   ┆ _sma_120_lag ┆ lag_5_volume ┆ ag_5_close_l ┆ ---         │\n",
       "│ f64    ┆ f64    ┆ f64    ┆ f64    ┆   ┆ _5           ┆ _lag_1       ┆ ag_1         ┆ f64         │\n",
       "│        ┆        ┆        ┆        ┆   ┆ ---          ┆ ---          ┆ ---          ┆             │\n",
       "│        ┆        ┆        ┆        ┆   ┆ f64          ┆ i64          ┆ f64          ┆             │\n",
       "╞════════╪════════╪════════╪════════╪═══╪══════════════╪══════════════╪══════════════╪═════════════╡\n",
       "│ 3012.4 ┆ 3012.4 ┆ 3012.4 ┆ 3012.4 ┆ … ┆ null         ┆ null         ┆ null         ┆ null        │\n",
       "│ 3012.4 ┆ 3012.4 ┆ 3012.4 ┆ 3012.4 ┆ … ┆ null         ┆ null         ┆ null         ┆ null        │\n",
       "│ 3010.0 ┆ 3010.0 ┆ 3010.0 ┆ 3010.0 ┆ … ┆ null         ┆ null         ┆ null         ┆ null        │\n",
       "│ 3012.4 ┆ 3012.6 ┆ 3012.4 ┆ 3012.6 ┆ … ┆ null         ┆ null         ┆ null         ┆ null        │\n",
       "│ 3012.6 ┆ 3012.6 ┆ 3012.6 ┆ 3012.6 ┆ … ┆ null         ┆ null         ┆ null         ┆ null        │\n",
       "│ …      ┆ …      ┆ …      ┆ …      ┆ … ┆ …            ┆ …            ┆ …            ┆ …           │\n",
       "│ 3053.6 ┆ 3053.8 ┆ 3053.6 ┆ 3053.8 ┆ … ┆ 0.373333     ┆ -6           ┆ -0.4         ┆ 3049.381041 │\n",
       "│ 3053.6 ┆ 3053.8 ┆ 3053.6 ┆ 3053.8 ┆ … ┆ 0.393333     ┆ 5            ┆ -0.4         ┆ 3049.019715 │\n",
       "│ 3053.8 ┆ 3053.8 ┆ 3053.8 ┆ 3053.8 ┆ … ┆ 0.413333     ┆ -33          ┆ -0.2         ┆ 3048.604291 │\n",
       "│ 3053.6 ┆ 3053.6 ┆ 3053.0 ┆ 3053.0 ┆ … ┆ 0.413333     ┆ 4            ┆ 0.2          ┆ 3050.0548   │\n",
       "│ 3053.0 ┆ 3053.0 ┆ 3053.0 ┆ 3053.0 ┆ … ┆ 0.416667     ┆ -9           ┆ 0.8          ┆ 3049.270512 │\n",
       "└────────┴────────┴────────┴────────┴───┴──────────────┴──────────────┴──────────────┴─────────────┘"
      ]
     },
     "execution_count": 82,
     "metadata": {},
     "output_type": "execute_result"
    }
   ],
   "source": [
    "from src.features.models.cb import ModelPredictPriceFeaturizer\n",
    "\n",
    "featurizer = ModelPredictPriceFeaturizer(\n",
    "    name=\"predict_cb\", \n",
    "    model_features=model_features, \n",
    "    model_params={\n",
    "        \"iterations\": 50,\n",
    "        \"random_state\": 32,\n",
    "        \"verbose\": 0,\n",
    "    },\n",
    "    target_col='close', \n",
    "    add_to_asset=True, \n",
    "    n_lags=500, \n",
    "    lag_target=120,\n",
    ")\n",
    "\n",
    "_ = featurizer.get_features_batch(asset)\n",
    "\n",
    "asset.to_polars()"
   ]
  },
  {
   "cell_type": "code",
   "execution_count": 83,
   "id": "8f0d6652-ed30-40bc-88c1-cc7c7e2093fc",
   "metadata": {},
   "outputs": [
    {
     "name": "stderr",
     "output_type": "stream",
     "text": [
      "100%|██████████████████████████████████████████████████████████████████████████████████████████████████████████████████████████████████████████████████| 6830/6830 [00:00<00:00, 313906.38it/s]\n"
     ]
    },
    {
     "data": {
      "text/plain": [
       "<matplotlib.collections.PathCollection at 0x32d599a30>"
      ]
     },
     "execution_count": 83,
     "metadata": {},
     "output_type": "execute_result"
    },
    {
     "data": {
      "image/png": "[encoded data removed]",
      "text/plain": [
       "<Figure size 640x480 with 1 Axes>"
      ]
     },
     "metadata": {},
     "output_type": "display_data"
    }
   ],
   "source": [
    "def is_cb_entry(asset, dt, take_profit: float = 0.05, comission: float = 0.0004):\n",
    "    data = asset.get(dt)\n",
    "\n",
    "    if data is None: \n",
    "        return False\n",
    "\n",
    "    if \"predict_cb\" not in data:\n",
    "        return False\n",
    "\n",
    "    if data[\"predict_cb\"] is None:\n",
    "        return False\n",
    "\n",
    "    if data[\"predict_cb\"] >= data[\"close\"] * (1 + comission * 2 + take_profit):\n",
    "        return True\n",
    "\n",
    "    return False\n",
    "\n",
    "    \n",
    "featurizer = FuncFeaturizer(\"entry_predict_cb\", partial(is_cb_entry, take_profit=0.01), add_to_asset=True)\n",
    "_ = featurizer.get_features_batch(asset)\n",
    "\n",
    "dd = (\n",
    "    asset.to_polars()\n",
    "    .select(\"ts\", \"close\", \"entry_predict_cb\", \"predict_cb\")\n",
    "    .to_pandas()\n",
    ")\n",
    "\n",
    "ax = dd.set_index(\"ts\")[[\"close\", \"predict_cb\"]].plot(alpha=0.3)\n",
    "\n",
    "entry_ts = dd.query(\"entry_predict_cb\")[\"ts\"]\n",
    "\n",
    "ax.scatter(entry_ts, dd.query(\"entry_predict_cb\")[\"close\"], color=\"green\", zorder=1000, marker=mpl_markers.CARETUP)"
   ]
  },
  {
   "cell_type": "markdown",
   "id": "ae35c01f-ba00-4d72-a266-5e4160da946c",
   "metadata": {},
   "source": [
    "## linear"
   ]
  },
  {
   "cell_type": "code",
   "execution_count": 84,
   "id": "e6cddf44-022b-4a4b-88dd-afe5ff9b18fd",
   "metadata": {},
   "outputs": [
    {
     "name": "stderr",
     "output_type": "stream",
     "text": [
      "100%|█████████████████████████████████████████████████████████████████████████████████████████████████████████████████████████████████████████████████████| 6830/6830 [00:35<00:00, 191.48it/s]\n"
     ]
    },
    {
     "data": {
      "text/html": [
       "<div><style>\n",
       ".dataframe > thead > tr,\n",
       ".dataframe > tbody > tr {\n",
       "  text-align: right;\n",
       "  white-space: pre-wrap;\n",
       "}\n",
       "</style>\n",
       "<small>shape: (6_830, 33)</small><table border=\"1\" class=\"dataframe\"><thead><tr><th>open</th><th>high</th><th>low</th><th>close</th><th>volume</th><th>ts</th><th>instrument_id</th><th>parse_ts</th><th>lot</th><th>sma_15</th><th>sma_30</th><th>sma_60</th><th>sma_120</th><th>rsi</th><th>sma_15_lag_5</th><th>sma_30_lag_5</th><th>sma_60_lag_5</th><th>sma_120_lag_5</th><th>close_lag_1</th><th>volume_lag_1</th><th>close_lag_5</th><th>volume_lag_5</th><th>close_lag_15</th><th>volume_lag_15</th><th>diff_sma_15_sma_15_lag_5</th><th>diff_sma_30_sma_30_lag_5</th><th>diff_sma_60_sma_60_lag_5</th><th>diff_sma_120_sma_120_lag_5</th><th>diff_volume_lag_5_volume_lag_1</th><th>diff_close_lag_5_close_lag_1</th><th>predict_cb</th><th>entry_predict_cb</th><th>predict_linear</th></tr><tr><td>f64</td><td>f64</td><td>f64</td><td>f64</td><td>i64</td><td>datetime[μs, UTC]</td><td>str</td><td>datetime[μs]</td><td>i64</td><td>f64</td><td>f64</td><td>f64</td><td>f64</td><td>f64</td><td>f64</td><td>f64</td><td>f64</td><td>f64</td><td>f64</td><td>i64</td><td>f64</td><td>i64</td><td>f64</td><td>i64</td><td>f64</td><td>f64</td><td>f64</td><td>f64</td><td>i64</td><td>f64</td><td>f64</td><td>bool</td><td>f64</td></tr></thead><tbody><tr><td>3012.4</td><td>3012.4</td><td>3012.4</td><td>3012.4</td><td>3</td><td>2025-01-25 00:02:00 UTC</td><td>&quot;87db07bc-0e02-4e29-90bb-05e8ef…</td><td>2025-02-03 22:04:28.851341</td><td>1</td><td>NaN</td><td>NaN</td><td>NaN</td><td>NaN</td><td>NaN</td><td>null</td><td>null</td><td>null</td><td>null</td><td>null</td><td>null</td><td>null</td><td>null</td><td>null</td><td>null</td><td>null</td><td>null</td><td>null</td><td>null</td><td>null</td><td>null</td><td>null</td><td>false</td><td>null</td></tr><tr><td>3012.4</td><td>3012.4</td><td>3012.4</td><td>3012.4</td><td>5</td><td>2025-01-25 00:04:00 UTC</td><td>&quot;87db07bc-0e02-4e29-90bb-05e8ef…</td><td>2025-02-03 22:04:28.851341</td><td>1</td><td>NaN</td><td>NaN</td><td>NaN</td><td>NaN</td><td>NaN</td><td>null</td><td>null</td><td>null</td><td>null</td><td>3012.4</td><td>3</td><td>null</td><td>null</td><td>null</td><td>null</td><td>null</td><td>null</td><td>null</td><td>null</td><td>null</td><td>null</td><td>null</td><td>false</td><td>null</td></tr><tr><td>3010.0</td><td>3010.0</td><td>3010.0</td><td>3010.0</td><td>1</td><td>2025-01-25 00:05:00 UTC</td><td>&quot;87db07bc-0e02-4e29-90bb-05e8ef…</td><td>2025-02-03 22:04:28.851341</td><td>1</td><td>NaN</td><td>NaN</td><td>NaN</td><td>NaN</td><td>NaN</td><td>null</td><td>null</td><td>null</td><td>null</td><td>3012.4</td><td>5</td><td>null</td><td>null</td><td>null</td><td>null</td><td>null</td><td>null</td><td>null</td><td>null</td><td>null</td><td>null</td><td>null</td><td>false</td><td>null</td></tr><tr><td>3012.4</td><td>3012.6</td><td>3012.4</td><td>3012.6</td><td>7</td><td>2025-01-25 00:06:00 UTC</td><td>&quot;87db07bc-0e02-4e29-90bb-05e8ef…</td><td>2025-02-03 22:04:28.851341</td><td>1</td><td>NaN</td><td>NaN</td><td>NaN</td><td>NaN</td><td>NaN</td><td>null</td><td>null</td><td>null</td><td>null</td><td>3010.0</td><td>1</td><td>null</td><td>null</td><td>null</td><td>null</td><td>null</td><td>null</td><td>null</td><td>null</td><td>null</td><td>null</td><td>null</td><td>false</td><td>null</td></tr><tr><td>3012.6</td><td>3012.6</td><td>3012.6</td><td>3012.6</td><td>5</td><td>2025-01-25 00:08:00 UTC</td><td>&quot;87db07bc-0e02-4e29-90bb-05e8ef…</td><td>2025-02-03 22:04:28.851341</td><td>1</td><td>NaN</td><td>NaN</td><td>NaN</td><td>NaN</td><td>NaN</td><td>null</td><td>null</td><td>null</td><td>null</td><td>3012.6</td><td>7</td><td>null</td><td>null</td><td>null</td><td>null</td><td>null</td><td>null</td><td>null</td><td>null</td><td>null</td><td>null</td><td>null</td><td>false</td><td>null</td></tr><tr><td>&hellip;</td><td>&hellip;</td><td>&hellip;</td><td>&hellip;</td><td>&hellip;</td><td>&hellip;</td><td>&hellip;</td><td>&hellip;</td><td>&hellip;</td><td>&hellip;</td><td>&hellip;</td><td>&hellip;</td><td>&hellip;</td><td>&hellip;</td><td>&hellip;</td><td>&hellip;</td><td>&hellip;</td><td>&hellip;</td><td>&hellip;</td><td>&hellip;</td><td>&hellip;</td><td>&hellip;</td><td>&hellip;</td><td>&hellip;</td><td>&hellip;</td><td>&hellip;</td><td>&hellip;</td><td>&hellip;</td><td>&hellip;</td><td>&hellip;</td><td>&hellip;</td><td>&hellip;</td><td>&hellip;</td></tr><tr><td>3053.6</td><td>3053.8</td><td>3053.6</td><td>3053.8</td><td>11</td><td>2025-01-31 23:52:00 UTC</td><td>&quot;87db07bc-0e02-4e29-90bb-05e8ef…</td><td>2025-02-03 22:04:28.851341</td><td>1</td><td>3053.64</td><td>3052.993333</td><td>3050.5</td><td>3045.963333</td><td>56.941962</td><td>3053.533333</td><td>3053.06</td><td>3049.446667</td><td>3045.59</td><td>3053.8</td><td>20</td><td>3053.4</td><td>14</td><td>3052.4</td><td>1</td><td>0.106667</td><td>-0.066667</td><td>1.053333</td><td>0.373333</td><td>-6</td><td>-0.4</td><td>3049.381041</td><td>false</td><td>3049.173783</td></tr><tr><td>3053.6</td><td>3053.8</td><td>3053.6</td><td>3053.8</td><td>34</td><td>2025-01-31 23:53:00 UTC</td><td>&quot;87db07bc-0e02-4e29-90bb-05e8ef…</td><td>2025-02-03 22:04:28.851341</td><td>1</td><td>3053.693333</td><td>3053.013333</td><td>3050.723333</td><td>3046.043333</td><td>56.941962</td><td>3053.546667</td><td>3052.98</td><td>3049.663333</td><td>3045.65</td><td>3053.8</td><td>11</td><td>3053.4</td><td>16</td><td>3052.2</td><td>35</td><td>0.146667</td><td>0.033333</td><td>1.06</td><td>0.393333</td><td>5</td><td>-0.4</td><td>3049.019715</td><td>false</td><td>3048.990332</td></tr><tr><td>3053.8</td><td>3053.8</td><td>3053.8</td><td>3053.8</td><td>47</td><td>2025-01-31 23:54:00 UTC</td><td>&quot;87db07bc-0e02-4e29-90bb-05e8ef…</td><td>2025-02-03 22:04:28.851341</td><td>1</td><td>3053.706667</td><td>3053.04</td><td>3050.936667</td><td>3046.138333</td><td>57.401779</td><td>3053.52</td><td>3052.933333</td><td>3049.866667</td><td>3045.725</td><td>3053.8</td><td>34</td><td>3053.6</td><td>1</td><td>3053.8</td><td>15</td><td>0.186667</td><td>0.106667</td><td>1.07</td><td>0.413333</td><td>-33</td><td>-0.2</td><td>3048.604291</td><td>false</td><td>3048.865984</td></tr><tr><td>3053.6</td><td>3053.6</td><td>3053.0</td><td>3053.0</td><td>29</td><td>2025-01-31 23:58:00 UTC</td><td>&quot;87db07bc-0e02-4e29-90bb-05e8ef…</td><td>2025-02-03 22:04:28.851341</td><td>1</td><td>3053.693333</td><td>3053.08</td><td>3051.133333</td><td>3046.225</td><td>56.774576</td><td>3053.56</td><td>3052.946667</td><td>3050.076667</td><td>3045.811667</td><td>3053.8</td><td>47</td><td>3054.0</td><td>51</td><td>3053.8</td><td>300</td><td>0.133333</td><td>0.133333</td><td>1.056667</td><td>0.413333</td><td>4</td><td>0.2</td><td>3050.0548</td><td>false</td><td>3048.747991</td></tr><tr><td>3053.0</td><td>3053.0</td><td>3053.0</td><td>3053.0</td><td>50</td><td>2025-01-31 23:59:00 UTC</td><td>&quot;87db07bc-0e02-4e29-90bb-05e8ef…</td><td>2025-02-03 22:04:28.851341</td><td>1</td><td>3053.626667</td><td>3053.093333</td><td>3051.323333</td><td>3046.31</td><td>54.912495</td><td>3053.56</td><td>3052.973333</td><td>3050.28</td><td>3045.893333</td><td>3053.0</td><td>29</td><td>3053.8</td><td>20</td><td>3053.8</td><td>1099</td><td>0.066667</td><td>0.12</td><td>1.043333</td><td>0.416667</td><td>-9</td><td>0.8</td><td>3049.270512</td><td>false</td><td>3047.996187</td></tr></tbody></table></div>"
      ],
      "text/plain": [
       "shape: (6_830, 33)\n",
       "┌────────┬────────┬────────┬────────┬───┬──────────────┬─────────────┬──────────────┬──────────────┐\n",
       "│ open   ┆ high   ┆ low    ┆ close  ┆ … ┆ diff_close_l ┆ predict_cb  ┆ entry_predic ┆ predict_line │\n",
       "│ ---    ┆ ---    ┆ ---    ┆ ---    ┆   ┆ ag_5_close_l ┆ ---         ┆ t_cb         ┆ ar           │\n",
       "│ f64    ┆ f64    ┆ f64    ┆ f64    ┆   ┆ ag_1         ┆ f64         ┆ ---          ┆ ---          │\n",
       "│        ┆        ┆        ┆        ┆   ┆ ---          ┆             ┆ bool         ┆ f64          │\n",
       "│        ┆        ┆        ┆        ┆   ┆ f64          ┆             ┆              ┆              │\n",
       "╞════════╪════════╪════════╪════════╪═══╪══════════════╪═════════════╪══════════════╪══════════════╡\n",
       "│ 3012.4 ┆ 3012.4 ┆ 3012.4 ┆ 3012.4 ┆ … ┆ null         ┆ null        ┆ false        ┆ null         │\n",
       "│ 3012.4 ┆ 3012.4 ┆ 3012.4 ┆ 3012.4 ┆ … ┆ null         ┆ null        ┆ false        ┆ null         │\n",
       "│ 3010.0 ┆ 3010.0 ┆ 3010.0 ┆ 3010.0 ┆ … ┆ null         ┆ null        ┆ false        ┆ null         │\n",
       "│ 3012.4 ┆ 3012.6 ┆ 3012.4 ┆ 3012.6 ┆ … ┆ null         ┆ null        ┆ false        ┆ null         │\n",
       "│ 3012.6 ┆ 3012.6 ┆ 3012.6 ┆ 3012.6 ┆ … ┆ null         ┆ null        ┆ false        ┆ null         │\n",
       "│ …      ┆ …      ┆ …      ┆ …      ┆ … ┆ …            ┆ …           ┆ …            ┆ …            │\n",
       "│ 3053.6 ┆ 3053.8 ┆ 3053.6 ┆ 3053.8 ┆ … ┆ -0.4         ┆ 3049.381041 ┆ false        ┆ 3049.173783  │\n",
       "│ 3053.6 ┆ 3053.8 ┆ 3053.6 ┆ 3053.8 ┆ … ┆ -0.4         ┆ 3049.019715 ┆ false        ┆ 3048.990332  │\n",
       "│ 3053.8 ┆ 3053.8 ┆ 3053.8 ┆ 3053.8 ┆ … ┆ -0.2         ┆ 3048.604291 ┆ false        ┆ 3048.865984  │\n",
       "│ 3053.6 ┆ 3053.6 ┆ 3053.0 ┆ 3053.0 ┆ … ┆ 0.2          ┆ 3050.0548   ┆ false        ┆ 3048.747991  │\n",
       "│ 3053.0 ┆ 3053.0 ┆ 3053.0 ┆ 3053.0 ┆ … ┆ 0.8          ┆ 3049.270512 ┆ false        ┆ 3047.996187  │\n",
       "└────────┴────────┴────────┴────────┴───┴──────────────┴─────────────┴──────────────┴──────────────┘"
      ]
     },
     "execution_count": 84,
     "metadata": {},
     "output_type": "execute_result"
    }
   ],
   "source": [
    "from src.features.models.linear import LinearModelPredictPriceFeaturizer\n",
    "\n",
    "featurizer = LinearModelPredictPriceFeaturizer(\n",
    "    name=\"predict_linear\", \n",
    "    model_features=model_features, \n",
    "    target_col='close', \n",
    "    add_to_asset=True, \n",
    "    n_lags=500, \n",
    "    lag_target=120,\n",
    ")\n",
    "\n",
    "_ = featurizer.get_features_batch(asset)\n",
    "\n",
    "asset.to_polars()"
   ]
  },
  {
   "cell_type": "markdown",
   "id": "031f1383-3ad7-414e-9005-3415a2520938",
   "metadata": {},
   "source": [
    "## Dumb"
   ]
  },
  {
   "cell_type": "code",
   "execution_count": 86,
   "id": "b7fc8516-5ea9-4792-9b16-8901d0eedc34",
   "metadata": {},
   "outputs": [
    {
     "name": "stderr",
     "output_type": "stream",
     "text": [
      "100%|█████████████████████████████████████████████████████████████████████████████████████████████████████████████████████████████████████████████████████| 6830/6830 [00:27<00:00, 252.21it/s]\n"
     ]
    }
   ],
   "source": [
    "from src.features.models.base import DumbRegressionModelFeaturizer\n",
    "\n",
    "\n",
    "featurizer = DumbRegressionModelFeaturizer(\n",
    "    name=\"predict_dumb_regression\", \n",
    "    model_features=model_features, \n",
    "    target_col='close', \n",
    "    add_to_asset=True, \n",
    "    n_lags=1000, \n",
    "    lag_target=60 * 4,\n",
    "    model_params={\n",
    "        \"iterations\": 50,\n",
    "        \"random_state\": 32,\n",
    "        \"verbose\": 0,\n",
    "    },\n",
    ")\n",
    "\n",
    "_ = featurizer.get_features_batch(asset)"
   ]
  },
  {
   "cell_type": "code",
   "execution_count": 87,
   "id": "ed26de08-ddfc-4901-8571-43912dc70f47",
   "metadata": {},
   "outputs": [
    {
     "name": "stderr",
     "output_type": "stream",
     "text": [
      "100%|█████████████████████████████████████████████████████████████████████████████████████████████████████████████████████████████████████████████████████| 6830/6830 [00:31<00:00, 213.97it/s]\n"
     ]
    }
   ],
   "source": [
    "from src.features.models.base import DumbClassificationModelFeaturizer\n",
    "\n",
    "\n",
    "featurizer = DumbClassificationModelFeaturizer(\n",
    "    name=\"predict_dumb_clf\", \n",
    "    model_features=model_features, \n",
    "    target_col='close', \n",
    "    add_to_asset=True, \n",
    "    n_lags=1000, \n",
    "    lag_target=60 * 4,\n",
    "    min_up_perc=0.005,\n",
    "    model_params={\n",
    "        \"iterations\": 50,\n",
    "        \"random_state\": 32,\n",
    "        \"verbose\": 0,\n",
    "    },\n",
    "    use_time_weights=True,\n",
    ")\n",
    "\n",
    "_ = featurizer.get_features_batch(asset)"
   ]
  },
  {
   "cell_type": "markdown",
   "id": "98adfda6-75dc-4beb-a92d-70557b2cdfb1",
   "metadata": {},
   "source": [
    "## cb classifier"
   ]
  },
  {
   "cell_type": "code",
   "execution_count": 88,
   "id": "80696c52-6464-4448-bcaa-84e32b7708e8",
   "metadata": {},
   "outputs": [
    {
     "name": "stderr",
     "output_type": "stream",
     "text": [
      "100%|██████████████████████████████████████████████████████████████████████████████████████████████████████████████████████████████████████████████████████| 6830/6830 [05:12<00:00, 21.87it/s]\n"
     ]
    }
   ],
   "source": [
    "from src.features.models.cb import CatboostClassifierFeaturizer\n",
    "\n",
    "featurizer = CatboostClassifierFeaturizer(\n",
    "    name=\"predict_cb_clf\", \n",
    "    model_features=model_features, \n",
    "    target_col='close', \n",
    "    add_to_asset=True, \n",
    "    n_lags=1000, \n",
    "    lag_target=60 * 4,\n",
    "    min_up_perc=0.005,\n",
    "    model_params={\n",
    "        \"iterations\": 50,\n",
    "        \"random_state\": 32,\n",
    "        \"verbose\": 0,\n",
    "    },\n",
    "    use_time_weights=True,\n",
    ")\n",
    "\n",
    "_ = featurizer.get_features_batch(asset)"
   ]
  },
  {
   "cell_type": "code",
   "execution_count": 89,
   "id": "0a2d41ad-317d-4fb8-b69f-b61d073dd0ce",
   "metadata": {},
   "outputs": [
    {
     "name": "stderr",
     "output_type": "stream",
     "text": [
      "100%|██████████████████████████████████████████████████████████████████████████████████████████████████████████████████████████████████████████████████████| 6830/6830 [05:30<00:00, 20.69it/s]\n"
     ]
    }
   ],
   "source": [
    "featurizer = CatboostClassifierFeaturizer(\n",
    "    name=\"predict_cb_clf_price_down\", \n",
    "    model_features=model_features, \n",
    "    target_col='close', \n",
    "    add_to_asset=True, \n",
    "    n_lags=1000, \n",
    "    lag_target=60 * 4,\n",
    "    min_up_perc=0.005,\n",
    "    model_params={\n",
    "        \"iterations\": 50,\n",
    "        \"random_state\": 32,\n",
    "        \"verbose\": 0,\n",
    "    },\n",
    "    predict_up=False,\n",
    "    use_time_weights=True,\n",
    ")\n",
    "\n",
    "_ = featurizer.get_features_batch(asset)"
   ]
  },
  {
   "cell_type": "code",
   "execution_count": 92,
   "id": "b6b875d0-a2b2-4361-95f2-9f30843277a1",
   "metadata": {},
   "outputs": [
    {
     "data": {
      "text/plain": [
       "<matplotlib.legend.Legend at 0x14668ac90>"
      ]
     },
     "execution_count": 92,
     "metadata": {},
     "output_type": "execute_result"
    },
    {
     "data": {
      "image/png": "[encoded data removed]",
      "text/plain": [
       "<Figure size 1000x600 with 1 Axes>"
      ]
     },
     "metadata": {},
     "output_type": "display_data"
    }
   ],
   "source": [
    "dd = (\n",
    "    asset.to_polars()\n",
    "    # .filter(pl.col(\"ts\") >= datetime(2025, 1, 20, 0, 0, 0, tzinfo=zoneinfo.ZoneInfo(key='UTC')))\n",
    "    # .filter(pl.col(\"ts\") <= datetime(2025, 1, 22, 0, 0, 0, tzinfo=zoneinfo.ZoneInfo(key='UTC')))\n",
    "    .select(\"ts\", \"close\", \"predict_cb_clf\", \"predict_cb_clf_price_down\")\n",
    "    .to_pandas()\n",
    "    .set_index(\"ts\")\n",
    ")\n",
    "\n",
    "index_df = pd.DataFrame(index=pd.date_range(dd.index.min(), dd.index.max(), freq=\"1min\"))\n",
    "\n",
    "nan_dd = dd.query(\"predict_cb_clf.isna()\")\n",
    "up_dd = dd.query(\"predict_cb_clf == 1\")#.query(\"predict_cb_clf_price_down != 1\")\n",
    "down_dd = dd.query(\"predict_cb_clf_price_down == 1\")#.query(\"predict_cb_clf != 1\")\n",
    "other_dd = dd.assign(flag=lambda x: \n",
    "(\n",
    "    (x.predict_cb_clf != 1)\n",
    "    & (x.predict_cb_clf_price_down != 1)\n",
    ")).query(\"flag\")\n",
    "\n",
    "fig, ax = plt.subplots(figsize=(10, 6))\n",
    "padding_price = 2\n",
    "\n",
    "index_df.join(other_dd)[\"close\"].plot(ax=ax, color=\"blue\", label=\"no_signals\", linewidth=0.1)\n",
    "index_df.join(nan_dd)[\"close\"].plot(ax=ax, color=\"blue\", label=\"nan\", linewidth=0.6)\n",
    "(index_df.join(up_dd)[\"close\"] + padding_price).plot(ax=ax, color=\"green\", label=\"up\", linewidth=0.6)\n",
    "(index_df.join(down_dd)[\"close\"] - padding_price).plot(ax=ax, color=\"red\", label=\"down\", linewidth=0.6)\n",
    "\n",
    "fig.legend()"
   ]
  },
  {
   "cell_type": "markdown",
   "id": "1f54e180-11c1-4d4a-84a2-9b95b22c342f",
   "metadata": {},
   "source": [
    "## logreg classifier"
   ]
  },
  {
   "cell_type": "code",
   "execution_count": 93,
   "id": "6883ec46-d16c-4ccf-b536-f02c389241b1",
   "metadata": {},
   "outputs": [
    {
     "name": "stderr",
     "output_type": "stream",
     "text": [
      "100%|██████████████████████████████████████████████████████████████████████████████████████████████████████████████████████████████████████████████████████| 6830/6830 [01:26<00:00, 79.34it/s]\n"
     ]
    }
   ],
   "source": [
    "from src.features.models.linear import LogregClassifierFeaturizer\n",
    "\n",
    "featurizer = LogregClassifierFeaturizer(\n",
    "    name=\"predict_logreg_clf\", \n",
    "    model_features=model_features, \n",
    "    target_col='close', \n",
    "    add_to_asset=True, \n",
    "    n_lags=1000, \n",
    "    lag_target=60 * 4,\n",
    "    min_up_perc=0.005,\n",
    "    use_time_weights=True,\n",
    ")\n",
    "\n",
    "_ = featurizer.get_features_batch(asset)"
   ]
  },
  {
   "cell_type": "code",
   "execution_count": 94,
   "id": "b53ed2d1-bf53-4c97-a1dc-f804da2744bd",
   "metadata": {},
   "outputs": [
    {
     "name": "stderr",
     "output_type": "stream",
     "text": [
      "100%|██████████████████████████████████████████████████████████████████████████████████████████████████████████████████████████████████████████████████████| 6830/6830 [01:29<00:00, 76.52it/s]\n"
     ]
    }
   ],
   "source": [
    "featurizer = LogregClassifierFeaturizer(\n",
    "    name=\"predict_logreg_clf_price_down\", \n",
    "    model_features=model_features, \n",
    "    target_col='close', \n",
    "    add_to_asset=True, \n",
    "    n_lags=1000, \n",
    "    lag_target=60 * 4,\n",
    "    min_up_perc=0.005,\n",
    "    use_time_weights=True,\n",
    "    predict_up=False\n",
    ")\n",
    "\n",
    "_ = featurizer.get_features_batch(asset)"
   ]
  },
  {
   "cell_type": "code",
   "execution_count": 96,
   "id": "579154c9-7579-4ab4-8551-4016f10783b0",
   "metadata": {},
   "outputs": [
    {
     "data": {
      "text/plain": [
       "<matplotlib.legend.Legend at 0x146288ce0>"
      ]
     },
     "execution_count": 96,
     "metadata": {},
     "output_type": "execute_result"
    },
    {
     "data": {
      "image/png": "[encoded data removed]",
      "text/plain": [
       "<Figure size 1000x600 with 1 Axes>"
      ]
     },
     "metadata": {},
     "output_type": "display_data"
    }
   ],
   "source": [
    "col_up = \"predict_logreg_clf\"\n",
    "col_down = \"predict_logreg_clf_price_down\"\n",
    "\n",
    "dd = (\n",
    "    asset.to_polars()\n",
    "    # .filter(pl.col(\"ts\") >= datetime(2025, 1, 20, 0, 0, 0, tzinfo=zoneinfo.ZoneInfo(key='UTC')))\n",
    "    # .filter(pl.col(\"ts\") <= datetime(2025, 1, 22, 0, 0, 0, tzinfo=zoneinfo.ZoneInfo(key='UTC')))\n",
    "    .select(\"ts\", \"close\", col_up, col_down)\n",
    "    .to_pandas()\n",
    "    .set_index(\"ts\")\n",
    ")\n",
    "\n",
    "index_df = pd.DataFrame(index=pd.date_range(dd.index.min(), dd.index.max(), freq=\"1min\"))\n",
    "\n",
    "nan_dd = dd.query(f\"{col_up}.isna()\")\n",
    "up_dd = dd.query(f\"{col_up} == 1\").query(f\"{col_down} != 1\")\n",
    "down_dd = dd.query(f\"{col_down} == 1\").query(f\"{col_up} != 1\")\n",
    "other_dd = dd.assign(flag=lambda x: \n",
    "(\n",
    "    (x[col_up] != 1)\n",
    "    & (x[col_down] != 1)\n",
    ")).query(\"flag\")\n",
    "\n",
    "fig, ax = plt.subplots(figsize=(10, 6))\n",
    "padding_price = 2\n",
    "\n",
    "index_df.join(other_dd)[\"close\"].plot(ax=ax, color=\"blue\", label=\"no_signals\", linewidth=0.1)\n",
    "index_df.join(nan_dd)[\"close\"].plot(ax=ax, color=\"blue\", label=\"nan\", linewidth=0.6)\n",
    "(index_df.join(up_dd)[\"close\"] + padding_price).plot(ax=ax, color=\"green\", label=\"up\", linewidth=0.6)\n",
    "(index_df.join(down_dd)[\"close\"] - padding_price).plot(ax=ax, color=\"red\", label=\"down\", linewidth=0.6)\n",
    "\n",
    "fig.legend()"
   ]
  },
  {
   "cell_type": "markdown",
   "id": "c442441a-f55c-4a98-8e53-7f5901864a8b",
   "metadata": {},
   "source": [
    "# TALib"
   ]
  },
  {
   "cell_type": "code",
   "execution_count": 99,
   "id": "e48789c0-ae64-4138-941d-c05ee3da7d42",
   "metadata": {},
   "outputs": [
    {
     "data": {
      "text/plain": [
       "array([3012.4, 3012.4, 3010. , ..., 3053.8, 3053.6, 3053. ])"
      ]
     },
     "execution_count": 99,
     "metadata": {},
     "output_type": "execute_result"
    }
   ],
   "source": [
    "import talib\n",
    "import numpy as np\n",
    "\n",
    "\n",
    "prices = np.array([asset.data[dt][asset.open_col] for dt in asset.sorted_dates])\n",
    "prices"
   ]
  },
  {
   "cell_type": "code",
   "execution_count": 136,
   "id": "7a013068-342a-4f8b-876d-37daf5de246f",
   "metadata": {},
   "outputs": [
    {
     "name": "stderr",
     "output_type": "stream",
     "text": [
      "6830it [00:00, 2339875.55it/s]\n"
     ]
    }
   ],
   "source": [
    "featurizer = TALibFeaturizer(\"mm\", func=lambda kwargs: talib.MA(real=kwargs[\"open\"], timeperiod=2), add_to_asset=True)\n",
    "output = featurizer.get_features_batch(asset)"
   ]
  },
  {
   "cell_type": "code",
   "execution_count": 139,
   "id": "7c7f5ae8-0868-49a4-a66e-ba03a8d363b1",
   "metadata": {},
   "outputs": [
    {
     "name": "stderr",
     "output_type": "stream",
     "text": [
      "100%|█████████████████████████████████████████████████████████████████████████████████████████████████████████████████████████████████████████████████████| 6830/6830 [00:20<00:00, 340.91it/s]\n"
     ]
    }
   ],
   "source": [
    "from tqdm.auto import tqdm\n",
    "\n",
    "\n",
    "featurizer = TALibFeaturizer(\"mm2\", func=lambda kwargs: talib.MA(real=kwargs[\"open\"], timeperiod=2), add_to_asset=True)\n",
    "for dt in tqdm(asset.sorted_dates):\n",
    "    _ = featurizer.get_features_iter(asset, dt)\n",
    "# output = featurizer.get_features_batch(asset)"
   ]
  },
  {
   "cell_type": "code",
   "execution_count": 140,
   "id": "1bc987d2-3e38-4d7b-81ba-44ab10283144",
   "metadata": {},
   "outputs": [
    {
     "data": {
      "text/html": [
       "<div><style>\n",
       ".dataframe > thead > tr,\n",
       ".dataframe > tbody > tr {\n",
       "  text-align: right;\n",
       "  white-space: pre-wrap;\n",
       "}\n",
       "</style>\n",
       "<small>shape: (6_830, 4)</small><table border=\"1\" class=\"dataframe\"><thead><tr><th>ts</th><th>open</th><th>mm</th><th>mm2</th></tr><tr><td>datetime[μs, UTC]</td><td>f64</td><td>f64</td><td>f64</td></tr></thead><tbody><tr><td>2025-01-25 00:02:00 UTC</td><td>3012.4</td><td>null</td><td>null</td></tr><tr><td>2025-01-25 00:04:00 UTC</td><td>3012.4</td><td>NaN</td><td>NaN</td></tr><tr><td>2025-01-25 00:05:00 UTC</td><td>3010.0</td><td>3012.4</td><td>3012.4</td></tr><tr><td>2025-01-25 00:06:00 UTC</td><td>3012.4</td><td>3011.2</td><td>3011.2</td></tr><tr><td>2025-01-25 00:08:00 UTC</td><td>3012.6</td><td>3011.2</td><td>3011.2</td></tr><tr><td>&hellip;</td><td>&hellip;</td><td>&hellip;</td><td>&hellip;</td></tr><tr><td>2025-01-31 23:52:00 UTC</td><td>3053.6</td><td>3053.7</td><td>3053.7</td></tr><tr><td>2025-01-31 23:53:00 UTC</td><td>3053.6</td><td>3053.7</td><td>3053.7</td></tr><tr><td>2025-01-31 23:54:00 UTC</td><td>3053.8</td><td>3053.6</td><td>3053.6</td></tr><tr><td>2025-01-31 23:58:00 UTC</td><td>3053.6</td><td>3053.7</td><td>3053.7</td></tr><tr><td>2025-01-31 23:59:00 UTC</td><td>3053.0</td><td>3053.7</td><td>3053.7</td></tr></tbody></table></div>"
      ],
      "text/plain": [
       "shape: (6_830, 4)\n",
       "┌─────────────────────────┬────────┬────────┬────────┐\n",
       "│ ts                      ┆ open   ┆ mm     ┆ mm2    │\n",
       "│ ---                     ┆ ---    ┆ ---    ┆ ---    │\n",
       "│ datetime[μs, UTC]       ┆ f64    ┆ f64    ┆ f64    │\n",
       "╞═════════════════════════╪════════╪════════╪════════╡\n",
       "│ 2025-01-25 00:02:00 UTC ┆ 3012.4 ┆ null   ┆ null   │\n",
       "│ 2025-01-25 00:04:00 UTC ┆ 3012.4 ┆ NaN    ┆ NaN    │\n",
       "│ 2025-01-25 00:05:00 UTC ┆ 3010.0 ┆ 3012.4 ┆ 3012.4 │\n",
       "│ 2025-01-25 00:06:00 UTC ┆ 3012.4 ┆ 3011.2 ┆ 3011.2 │\n",
       "│ 2025-01-25 00:08:00 UTC ┆ 3012.6 ┆ 3011.2 ┆ 3011.2 │\n",
       "│ …                       ┆ …      ┆ …      ┆ …      │\n",
       "│ 2025-01-31 23:52:00 UTC ┆ 3053.6 ┆ 3053.7 ┆ 3053.7 │\n",
       "│ 2025-01-31 23:53:00 UTC ┆ 3053.6 ┆ 3053.7 ┆ 3053.7 │\n",
       "│ 2025-01-31 23:54:00 UTC ┆ 3053.8 ┆ 3053.6 ┆ 3053.6 │\n",
       "│ 2025-01-31 23:58:00 UTC ┆ 3053.6 ┆ 3053.7 ┆ 3053.7 │\n",
       "│ 2025-01-31 23:59:00 UTC ┆ 3053.0 ┆ 3053.7 ┆ 3053.7 │\n",
       "└─────────────────────────┴────────┴────────┴────────┘"
      ]
     },
     "execution_count": 140,
     "metadata": {},
     "output_type": "execute_result"
    }
   ],
   "source": [
    "asset.to_polars().select(\"ts\", \"open\", \"mm\", \"mm2\")"
   ]
  },
  {
   "cell_type": "code",
   "execution_count": 130,
   "id": "ef19c4e6-e5ea-41bf-a00d-41956f918c0b",
   "metadata": {},
   "outputs": [
    {
     "data": {
      "text/plain": [
       "array([0, 1, 2, 3])"
      ]
     },
     "execution_count": 130,
     "metadata": {},
     "output_type": "execute_result"
    }
   ],
   "source": [
    "np.arange(5)[:-1]"
   ]
  },
  {
   "cell_type": "code",
   "execution_count": 127,
   "id": "371c0afc-3dbc-4e54-a2c7-c3c92acf8b08",
   "metadata": {},
   "outputs": [
    {
     "data": {
      "text/plain": [
       "[datetime.datetime(2025, 1, 31, 23, 54, tzinfo=zoneinfo.ZoneInfo(key='UTC')),\n",
       " datetime.datetime(2025, 1, 31, 23, 58, tzinfo=zoneinfo.ZoneInfo(key='UTC')),\n",
       " datetime.datetime(2025, 1, 31, 23, 59, tzinfo=zoneinfo.ZoneInfo(key='UTC'))]"
      ]
     },
     "execution_count": 127,
     "metadata": {},
     "output_type": "execute_result"
    }
   ],
   "source": [
    "output[0][-3:]"
   ]
  },
  {
   "cell_type": "code",
   "execution_count": 128,
   "id": "df0f1994-ccbc-4ce7-8589-1a207009be6b",
   "metadata": {},
   "outputs": [
    {
     "data": {
      "text/plain": [
       "array([3053.7, 3053.7, 3053.3])"
      ]
     },
     "execution_count": 128,
     "metadata": {},
     "output_type": "execute_result"
    }
   ],
   "source": [
    "output[1][0][-3:]"
   ]
  },
  {
   "cell_type": "code",
   "execution_count": 111,
   "id": "4a4904ba-24eb-4133-ad5b-25ba3557e46d",
   "metadata": {},
   "outputs": [
    {
     "data": {
      "text/plain": [
       "array([None, nan, 3012.4, ..., 3053.700000000008, 3053.700000000008,\n",
       "       3053.300000000008], dtype=object)"
      ]
     },
     "execution_count": 111,
     "metadata": {},
     "output_type": "execute_result"
    }
   ],
   "source": [
    "np.concatenate(([None, ], talib.MA(prices, 2)))"
   ]
  },
  {
   "cell_type": "code",
   "execution_count": 102,
   "id": "af740203-ea99-40b0-8147-ccb1af200618",
   "metadata": {},
   "outputs": [
    {
     "data": {
      "text/plain": [
       "(6830,)"
      ]
     },
     "execution_count": 102,
     "metadata": {},
     "output_type": "execute_result"
    }
   ],
   "source": [
    "prices.shape"
   ]
  }
 ],
 "metadata": {
  "kernelspec": {
   "display_name": "algotrading",
   "language": "python",
   "name": "algotrading"
  },
  "language_info": {
   "codemirror_mode": {
    "name": "ipython",
    "version": 3
   },
   "file_extension": ".py",
   "mimetype": "text/x-python",
   "name": "python",
   "nbconvert_exporter": "python",
   "pygments_lexer": "ipython3",
   "version": "3.12.7"
  }
 },
 "nbformat": 4,
 "nbformat_minor": 5
}
